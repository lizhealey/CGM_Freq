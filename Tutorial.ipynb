{
 "cells": [
  {
   "cell_type": "code",
   "execution_count": null,
   "id": "96eeb99e",
   "metadata": {},
   "outputs": [],
   "source": [
    "from CGMFreq import CGMFreq\n",
    "import pandas as pd"
   ]
  },
  {
   "cell_type": "markdown",
   "id": "c0c72c45",
   "metadata": {},
   "source": [
    "## Create data"
   ]
  },
  {
   "cell_type": "code",
   "execution_count": null,
   "id": "01a152a2",
   "metadata": {},
   "outputs": [],
   "source": [
    "y= # CGM data\n",
    "t = # Time stamps\n",
    "\n",
    "df = pd.DataFrame(columns = ['CGM','Time'])\n",
    "df['CGM'] = y\n",
    "df['Time']=t"
   ]
  },
  {
   "cell_type": "markdown",
   "id": "e76772e1",
   "metadata": {},
   "source": [
    "## Process CGM signal"
   ]
  },
  {
   "cell_type": "code",
   "execution_count": null,
   "id": "b036868b",
   "metadata": {},
   "outputs": [],
   "source": [
    "# Set variables\n",
    "fs=1/300\n",
    "nperseg=64"
   ]
  },
  {
   "cell_type": "code",
   "execution_count": null,
   "id": "671a6fd0",
   "metadata": {},
   "outputs": [],
   "source": [
    "signal, time = CGMFreq.process_cgm(df,'CGM','Time', fs)"
   ]
  },
  {
   "cell_type": "markdown",
   "id": "ab025c12",
   "metadata": {},
   "source": [
    "## Visualize the signal"
   ]
  },
  {
   "cell_type": "code",
   "execution_count": null,
   "id": "93c2ec1a",
   "metadata": {},
   "outputs": [],
   "source": [
    "CGMFreq.visualize(signal, time,nperseg=nperseg)"
   ]
  },
  {
   "cell_type": "markdown",
   "id": "6f405f54",
   "metadata": {},
   "source": [
    "## Filter CGM Signal"
   ]
  },
  {
   "cell_type": "code",
   "execution_count": null,
   "id": "1b6f4c39",
   "metadata": {},
   "outputs": [],
   "source": [
    "CGMFreq.filter_cgm(signal,time,cutoff=.0005)"
   ]
  },
  {
   "cell_type": "markdown",
   "id": "1a46f969",
   "metadata": {},
   "source": [
    "## Obtain Features"
   ]
  },
  {
   "cell_type": "code",
   "execution_count": null,
   "id": "1e606a5a",
   "metadata": {},
   "outputs": [],
   "source": [
    "time_features = CGMFreq.time_feats( signal)"
   ]
  },
  {
   "cell_type": "markdown",
   "id": "4e346966",
   "metadata": {},
   "source": [
    "## Plot Spectrogram"
   ]
  },
  {
   "cell_type": "code",
   "execution_count": null,
   "id": "f563348c",
   "metadata": {},
   "outputs": [],
   "source": [
    "CGMFreq.CGMspectrogram(signal,time, fs,nperseg, )"
   ]
  }
 ],
 "metadata": {
  "kernelspec": {
   "display_name": "Python [conda env:ODE_env]",
   "language": "python",
   "name": "conda-env-ODE_env-py"
  },
  "language_info": {
   "codemirror_mode": {
    "name": "ipython",
    "version": 3
   },
   "file_extension": ".py",
   "mimetype": "text/x-python",
   "name": "python",
   "nbconvert_exporter": "python",
   "pygments_lexer": "ipython3",
   "version": "3.9.15"
  }
 },
 "nbformat": 4,
 "nbformat_minor": 5
}
